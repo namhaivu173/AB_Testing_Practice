{
 "cells": [
  {
   "cell_type": "markdown",
   "id": "28303fab-099e-4bff-bc0d-c96d9c2cd09a",
   "metadata": {
    "canvas": {
     "comments": [],
     "componentType": "CodeCell",
     "copiedOriginId": null,
     "diskcache": false,
     "headerColor": "inherit",
     "id": "9bf6b94f-d301-4d3d-b20c-98cac91ebb17",
     "isComponent": false,
     "name": "",
     "parents": []
    }
   },
   "source": [
    "# AB Testing Practice - Hai Vu"
   ]
  },
  {
   "cell_type": "markdown",
   "id": "78da1abd-9794-4705-a3d6-bffc57341fcf",
   "metadata": {
    "canvas": {
     "comments": [],
     "componentType": "CodeCell",
     "copiedOriginId": null,
     "diskcache": false,
     "headerColor": "inherit",
     "id": "9797845a-81c5-4b7e-a894-17b3c98cb969",
     "isComponent": false,
     "name": "",
     "parents": []
    }
   },
   "source": [
    "## Project Overview:\n",
    "- Data set taken from Kaggle: https://www.kaggle.com/datasets/zhangluyuan/ab-testing\n",
    "- Show customers' conversion (whether customers complete a purchase when visiting the web page) after interacting with either the old or the new version of a landing page\n",
    "- Conduct AB test to see if the new landing page improves conversion rates"
   ]
  },
  {
   "cell_type": "markdown",
   "id": "0a11e0ad-ea90-4ed0-a183-1022d44e072a",
   "metadata": {
    "canvas": {
     "comments": [],
     "componentType": "CodeCell",
     "copiedOriginId": null,
     "diskcache": false,
     "headerColor": "inherit",
     "id": "2a619be1-fde3-4009-927a-54219dab760f",
     "isComponent": false,
     "name": "",
     "parents": []
    }
   },
   "source": [
    "## Table of Contents:\n",
    "<a id='TOC'></a>\n",
    "- [I. Data Cleaning](#cleaning)\n",
    "- [II. Test Method 1](#test1)\n",
    "- [III. Test Method 2](#test2)\n",
    "- [IV. Code References](#ref)"
   ]
  },
  {
   "cell_type": "code",
   "execution_count": 30,
   "id": "984585a8-5f85-4f06-8989-8bf6b3755874",
   "metadata": {
    "canvas": {
     "comments": [],
     "componentType": "CodeCell",
     "copiedOriginId": null,
     "diskcache": false,
     "headerColor": "inherit",
     "id": "eba5a241-df23-43e2-b79f-99a04d5b2cea",
     "isComponent": false,
     "name": "",
     "parents": []
    },
    "tags": []
   },
   "outputs": [],
   "source": [
    "# Import libraries\n",
    "import numpy as np\n",
    "import pandas as pd\n",
    "import pingouin as pg\n",
    "import statsmodels.stats.api as sms\n",
    "from scipy.stats import shapiro, levene, mannwhitneyu\n",
    "from statsmodels.stats.proportion import proportions_ztest, proportion_confint\n",
    "import scipy.stats as stats\n",
    "import matplotlib.pyplot as plt\n",
    "import matplotlib.dates as mdates\n",
    "import seaborn as sns\n",
    "from math import ceil"
   ]
  },
  {
   "cell_type": "markdown",
   "id": "61c757ba-698f-42cc-930c-6494dd16beb1",
   "metadata": {
    "canvas": {
     "comments": [],
     "componentType": "CodeCell",
     "copiedOriginId": null,
     "diskcache": false,
     "headerColor": "inherit",
     "id": "8e3924cb-c24d-4c11-8eae-52eaca6a5a58",
     "isComponent": false,
     "name": "",
     "parents": []
    }
   },
   "source": [
    "## I. Data Cleaning:\n",
    "<a id='cleaning'></a>"
   ]
  },
  {
   "cell_type": "code",
   "execution_count": 31,
   "id": "b4aadeea-8a59-425c-9390-b3fbf976f522",
   "metadata": {
    "canvas": {
     "comments": [],
     "componentType": "CodeCell",
     "copiedOriginId": null,
     "diskcache": false,
     "headerColor": "inherit",
     "id": "0196fe7e-7cb6-42c1-89e9-09af760fd50d",
     "isComponent": false,
     "name": "",
     "parents": []
    }
   },
   "outputs": [],
   "source": [
    "# Import data set\n",
    "df_data = pd.read_csv(\"ab_data.csv\")"
   ]
  },
  {
   "cell_type": "code",
   "execution_count": 32,
   "id": "f47fb330-0e44-42f9-8f6e-c80a1e75216e",
   "metadata": {
    "canvas": {
     "comments": [],
     "componentType": "CodeCell",
     "copiedOriginId": null,
     "diskcache": false,
     "headerColor": "inherit",
     "id": "99a4c268-ae1a-4706-808c-7f693f1e5cf4",
     "isComponent": false,
     "name": "",
     "parents": []
    }
   },
   "outputs": [
    {
     "data": {
      "text/html": [
       "<div>\n",
       "<style scoped>\n",
       "    .dataframe tbody tr th:only-of-type {\n",
       "        vertical-align: middle;\n",
       "    }\n",
       "\n",
       "    .dataframe tbody tr th {\n",
       "        vertical-align: top;\n",
       "    }\n",
       "\n",
       "    .dataframe thead th {\n",
       "        text-align: right;\n",
       "    }\n",
       "</style>\n",
       "<table border=\"1\" class=\"dataframe\">\n",
       "  <thead>\n",
       "    <tr style=\"text-align: right;\">\n",
       "      <th></th>\n",
       "      <th>user_id</th>\n",
       "      <th>timestamp</th>\n",
       "      <th>group</th>\n",
       "      <th>landing_page</th>\n",
       "      <th>converted</th>\n",
       "    </tr>\n",
       "  </thead>\n",
       "  <tbody>\n",
       "    <tr>\n",
       "      <th>0</th>\n",
       "      <td>851104</td>\n",
       "      <td>2017-01-21 22:11:48.556739</td>\n",
       "      <td>control</td>\n",
       "      <td>old_page</td>\n",
       "      <td>0</td>\n",
       "    </tr>\n",
       "    <tr>\n",
       "      <th>1</th>\n",
       "      <td>804228</td>\n",
       "      <td>2017-01-12 08:01:45.159739</td>\n",
       "      <td>control</td>\n",
       "      <td>old_page</td>\n",
       "      <td>0</td>\n",
       "    </tr>\n",
       "    <tr>\n",
       "      <th>2</th>\n",
       "      <td>661590</td>\n",
       "      <td>2017-01-11 16:55:06.154213</td>\n",
       "      <td>treatment</td>\n",
       "      <td>new_page</td>\n",
       "      <td>0</td>\n",
       "    </tr>\n",
       "    <tr>\n",
       "      <th>3</th>\n",
       "      <td>853541</td>\n",
       "      <td>2017-01-08 18:28:03.143765</td>\n",
       "      <td>treatment</td>\n",
       "      <td>new_page</td>\n",
       "      <td>0</td>\n",
       "    </tr>\n",
       "    <tr>\n",
       "      <th>4</th>\n",
       "      <td>864975</td>\n",
       "      <td>2017-01-21 01:52:26.210827</td>\n",
       "      <td>control</td>\n",
       "      <td>old_page</td>\n",
       "      <td>1</td>\n",
       "    </tr>\n",
       "  </tbody>\n",
       "</table>\n",
       "</div>"
      ],
      "text/plain": [
       "   user_id                   timestamp      group landing_page  converted\n",
       "0   851104  2017-01-21 22:11:48.556739    control     old_page          0\n",
       "1   804228  2017-01-12 08:01:45.159739    control     old_page          0\n",
       "2   661590  2017-01-11 16:55:06.154213  treatment     new_page          0\n",
       "3   853541  2017-01-08 18:28:03.143765  treatment     new_page          0\n",
       "4   864975  2017-01-21 01:52:26.210827    control     old_page          1"
      ]
     },
     "execution_count": 32,
     "metadata": {},
     "output_type": "execute_result"
    }
   ],
   "source": [
    "# Overview of data\n",
    "df_data.head()"
   ]
  },
  {
   "cell_type": "code",
   "execution_count": 33,
   "id": "9f91ddf0-1c67-49bf-83a3-194b58cae546",
   "metadata": {
    "canvas": {
     "comments": [],
     "componentType": "CodeCell",
     "copiedOriginId": null,
     "diskcache": false,
     "headerColor": "inherit",
     "id": "15cb8a2d-6c94-4ff9-ab85-162b9f4462b8",
     "isComponent": false,
     "name": "",
     "parents": []
    }
   },
   "outputs": [
    {
     "name": "stdout",
     "output_type": "stream",
     "text": [
      "<class 'pandas.core.frame.DataFrame'>\n",
      "RangeIndex: 294478 entries, 0 to 294477\n",
      "Data columns (total 5 columns):\n",
      " #   Column        Non-Null Count   Dtype \n",
      "---  ------        --------------   ----- \n",
      " 0   user_id       294478 non-null  int64 \n",
      " 1   timestamp     294478 non-null  object\n",
      " 2   group         294478 non-null  object\n",
      " 3   landing_page  294478 non-null  object\n",
      " 4   converted     294478 non-null  int64 \n",
      "dtypes: int64(2), object(3)\n",
      "memory usage: 11.2+ MB\n"
     ]
    }
   ],
   "source": [
    "# Info of variables\n",
    "df_data.info()"
   ]
  },
  {
   "cell_type": "code",
   "execution_count": 34,
   "id": "04100e79-f2c3-42e1-b29e-2623fcdb6ff5",
   "metadata": {
    "canvas": {
     "comments": [],
     "componentType": "CodeCell",
     "copiedOriginId": null,
     "diskcache": false,
     "headerColor": "inherit",
     "id": "183df5b8-0137-48b1-802b-d2d8c20facbb",
     "isComponent": false,
     "name": "",
     "parents": []
    }
   },
   "outputs": [
    {
     "name": "stdout",
     "output_type": "stream",
     "text": [
      "<class 'pandas.core.frame.DataFrame'>\n",
      "RangeIndex: 294478 entries, 0 to 294477\n",
      "Data columns (total 6 columns):\n",
      " #   Column        Non-Null Count   Dtype         \n",
      "---  ------        --------------   -----         \n",
      " 0   user_id       294478 non-null  int64         \n",
      " 1   timestamp     294478 non-null  datetime64[ns]\n",
      " 2   group         294478 non-null  object        \n",
      " 3   landing_page  294478 non-null  object        \n",
      " 4   converted     294478 non-null  int64         \n",
      " 5   full_date     294478 non-null  datetime64[ns]\n",
      "dtypes: datetime64[ns](2), int64(2), object(2)\n",
      "memory usage: 13.5+ MB\n"
     ]
    }
   ],
   "source": [
    "# Convert timestamp to date time\n",
    "df_data['timestamp'] = pd.to_datetime(df_data['timestamp'])\n",
    "df_data['full_date'] = pd.to_datetime(df_data['timestamp'].dt.strftime('%Y-%m-%d'))\n",
    "df_data.info()"
   ]
  },
  {
   "cell_type": "code",
   "execution_count": 35,
   "id": "d4ec5ad6-3e1c-472b-9e71-760180252ba9",
   "metadata": {
    "canvas": {
     "comments": [],
     "componentType": "CodeCell",
     "copiedOriginId": null,
     "diskcache": false,
     "headerColor": "inherit",
     "id": "d4c2f8e9-ecca-425f-b162-269e8276ea0d",
     "isComponent": false,
     "name": "",
     "parents": []
    }
   },
   "outputs": [
    {
     "name": "stdout",
     "output_type": "stream",
     "text": [
      "2017-01-02 13:42:05.378582\n",
      "2017-01-24 13:41:54.460509\n"
     ]
    }
   ],
   "source": [
    "# Show time range\n",
    "print(min(df_data['timestamp']))\n",
    "print(max(df_data['timestamp']))"
   ]
  },
  {
   "cell_type": "code",
   "execution_count": 36,
   "id": "f1acb87c-cfff-4ee8-927d-ae7ed98dd379",
   "metadata": {
    "canvas": {
     "comments": [],
     "componentType": "CodeCell",
     "copiedOriginId": null,
     "diskcache": false,
     "headerColor": "inherit",
     "id": "7870d451-f64d-4de2-b6b0-f09a11a7f9f5",
     "isComponent": false,
     "name": "",
     "parents": []
    }
   },
   "outputs": [
    {
     "data": {
      "text/html": [
       "<div>\n",
       "<style scoped>\n",
       "    .dataframe tbody tr th:only-of-type {\n",
       "        vertical-align: middle;\n",
       "    }\n",
       "\n",
       "    .dataframe tbody tr th {\n",
       "        vertical-align: top;\n",
       "    }\n",
       "\n",
       "    .dataframe thead th {\n",
       "        text-align: right;\n",
       "    }\n",
       "</style>\n",
       "<table border=\"1\" class=\"dataframe\">\n",
       "  <thead>\n",
       "    <tr style=\"text-align: right;\">\n",
       "      <th></th>\n",
       "      <th>group</th>\n",
       "      <th>landing_page</th>\n",
       "      <th>count</th>\n",
       "    </tr>\n",
       "  </thead>\n",
       "  <tbody>\n",
       "    <tr>\n",
       "      <th>0</th>\n",
       "      <td>control</td>\n",
       "      <td>new_page</td>\n",
       "      <td>1928</td>\n",
       "    </tr>\n",
       "    <tr>\n",
       "      <th>1</th>\n",
       "      <td>control</td>\n",
       "      <td>old_page</td>\n",
       "      <td>145274</td>\n",
       "    </tr>\n",
       "    <tr>\n",
       "      <th>2</th>\n",
       "      <td>treatment</td>\n",
       "      <td>new_page</td>\n",
       "      <td>145311</td>\n",
       "    </tr>\n",
       "    <tr>\n",
       "      <th>3</th>\n",
       "      <td>treatment</td>\n",
       "      <td>old_page</td>\n",
       "      <td>1965</td>\n",
       "    </tr>\n",
       "  </tbody>\n",
       "</table>\n",
       "</div>"
      ],
      "text/plain": [
       "       group landing_page   count\n",
       "0    control     new_page    1928\n",
       "1    control     old_page  145274\n",
       "2  treatment     new_page  145311\n",
       "3  treatment     old_page    1965"
      ]
     },
     "execution_count": 36,
     "metadata": {},
     "output_type": "execute_result"
    }
   ],
   "source": [
    "# Count of group by landing page\n",
    "df_data.groupby(['group','landing_page']).size().reset_index(name='count')"
   ]
  },
  {
   "cell_type": "code",
   "execution_count": 37,
   "id": "2760746a-b31e-4295-976e-1dee49f1d22f",
   "metadata": {
    "canvas": {
     "comments": [],
     "componentType": "CodeCell",
     "copiedOriginId": null,
     "diskcache": false,
     "headerColor": "inherit",
     "id": "3944fe05-c46c-4353-9302-e614c6d7aa18",
     "isComponent": false,
     "name": "",
     "parents": []
    }
   },
   "outputs": [
    {
     "data": {
      "text/plain": [
       "user_id         0\n",
       "timestamp       0\n",
       "group           0\n",
       "landing_page    0\n",
       "converted       0\n",
       "full_date       0\n",
       "dtype: int64"
      ]
     },
     "execution_count": 37,
     "metadata": {},
     "output_type": "execute_result"
    }
   ],
   "source": [
    "# Check null values\n",
    "df_data.isnull().sum()"
   ]
  },
  {
   "cell_type": "code",
   "execution_count": 38,
   "id": "3a5cad7a-a6ba-4584-836c-df2d02d87166",
   "metadata": {
    "canvas": {
     "comments": [],
     "componentType": "CodeCell",
     "copiedOriginId": null,
     "diskcache": false,
     "headerColor": "inherit",
     "id": "72f25c84-5c80-4891-81f0-58f20b55ae35",
     "isComponent": false,
     "name": "",
     "parents": []
    }
   },
   "outputs": [
    {
     "data": {
      "text/plain": [
       "user_id         290584\n",
       "timestamp       294478\n",
       "group                2\n",
       "landing_page         2\n",
       "converted            2\n",
       "full_date           23\n",
       "dtype: int64"
      ]
     },
     "execution_count": 38,
     "metadata": {},
     "output_type": "execute_result"
    }
   ],
   "source": [
    "# Check unique values count\n",
    "df_data.apply(lambda x: x.nunique())"
   ]
  },
  {
   "cell_type": "code",
   "execution_count": 39,
   "id": "b899af38-17b9-4c3c-8f8a-eb412f8e4bac",
   "metadata": {
    "canvas": {
     "comments": [],
     "componentType": "CodeCell",
     "copiedOriginId": null,
     "diskcache": false,
     "headerColor": "inherit",
     "id": "aeef68d3-d2b6-4dd6-88ea-1f8cea8dceb5",
     "isComponent": false,
     "name": "",
     "parents": []
    }
   },
   "outputs": [
    {
     "name": "stdout",
     "output_type": "stream",
     "text": [
      "3894\n",
      "(294478, 6)\n"
     ]
    },
    {
     "data": {
      "text/plain": [
       "(290584, 6)"
      ]
     },
     "execution_count": 39,
     "metadata": {},
     "output_type": "execute_result"
    }
   ],
   "source": [
    "# Show number of duplicates\n",
    "print(df_data.duplicated(subset= ['user_id']).sum())\n",
    "print(df_data.shape)\n",
    "\n",
    "# Remove duplicates\n",
    "df_data2 = df_data.drop_duplicates(subset= ['user_id'], keep = 'first')\n",
    "df_data2.shape"
   ]
  },
  {
   "cell_type": "code",
   "execution_count": 40,
   "id": "12a2dbc3-aed0-4a9e-a68f-77a7affedd63",
   "metadata": {
    "canvas": {
     "comments": [],
     "componentType": "CodeCell",
     "copiedOriginId": null,
     "diskcache": false,
     "headerColor": "inherit",
     "id": "91b9528c-20de-42a7-9adb-4b32eb9a49f3",
     "isComponent": false,
     "name": "",
     "parents": []
    }
   },
   "outputs": [
    {
     "data": {
      "text/html": [
       "<div>\n",
       "<style scoped>\n",
       "    .dataframe tbody tr th:only-of-type {\n",
       "        vertical-align: middle;\n",
       "    }\n",
       "\n",
       "    .dataframe tbody tr th {\n",
       "        vertical-align: top;\n",
       "    }\n",
       "\n",
       "    .dataframe thead th {\n",
       "        text-align: right;\n",
       "    }\n",
       "</style>\n",
       "<table border=\"1\" class=\"dataframe\">\n",
       "  <thead>\n",
       "    <tr style=\"text-align: right;\">\n",
       "      <th></th>\n",
       "      <th>group</th>\n",
       "      <th>landing_page</th>\n",
       "      <th>count</th>\n",
       "    </tr>\n",
       "  </thead>\n",
       "  <tbody>\n",
       "    <tr>\n",
       "      <th>0</th>\n",
       "      <td>control</td>\n",
       "      <td>new_page</td>\n",
       "      <td>1006</td>\n",
       "    </tr>\n",
       "    <tr>\n",
       "      <th>1</th>\n",
       "      <td>control</td>\n",
       "      <td>old_page</td>\n",
       "      <td>144226</td>\n",
       "    </tr>\n",
       "    <tr>\n",
       "      <th>2</th>\n",
       "      <td>treatment</td>\n",
       "      <td>new_page</td>\n",
       "      <td>144314</td>\n",
       "    </tr>\n",
       "    <tr>\n",
       "      <th>3</th>\n",
       "      <td>treatment</td>\n",
       "      <td>old_page</td>\n",
       "      <td>1038</td>\n",
       "    </tr>\n",
       "  </tbody>\n",
       "</table>\n",
       "</div>"
      ],
      "text/plain": [
       "       group landing_page   count\n",
       "0    control     new_page    1006\n",
       "1    control     old_page  144226\n",
       "2  treatment     new_page  144314\n",
       "3  treatment     old_page    1038"
      ]
     },
     "execution_count": 40,
     "metadata": {},
     "output_type": "execute_result"
    }
   ],
   "source": [
    "# Count of groups by landing page (after removing duplicates)\n",
    "df_data2.groupby(['group','landing_page']).size().reset_index(name='count')"
   ]
  },
  {
   "cell_type": "code",
   "execution_count": 41,
   "id": "e844f388-8d85-485a-9873-2109227cf2a5",
   "metadata": {
    "canvas": {
     "comments": [],
     "componentType": "CodeCell",
     "copiedOriginId": null,
     "diskcache": false,
     "headerColor": "inherit",
     "id": "a4fc759d-aabd-41b1-b9c8-91241e9b8bad",
     "isComponent": false,
     "name": "",
     "parents": []
    }
   },
   "outputs": [],
   "source": [
    "# Only consider 2 groups: control = old_page, treatment = new_page\n",
    "df_data2 = df_data2[((df_data2['group'] == 'control') & (df_data2['landing_page'] == 'old_page')) | \n",
    "                    ((df_data2['group'] == 'treatment') & (df_data2['landing_page'] == 'new_page'))]"
   ]
  },
  {
   "cell_type": "code",
   "execution_count": 42,
   "id": "96bb6bc5-0e95-4f2c-8cfb-cac9f35092e3",
   "metadata": {
    "canvas": {
     "comments": [],
     "componentType": "CodeCell",
     "copiedOriginId": null,
     "diskcache": false,
     "headerColor": "inherit",
     "id": "a90a5d04-73bc-4fcd-94c5-b42444be82c5",
     "isComponent": false,
     "name": "",
     "parents": []
    }
   },
   "outputs": [
    {
     "data": {
      "text/html": [
       "<div>\n",
       "<style scoped>\n",
       "    .dataframe tbody tr th:only-of-type {\n",
       "        vertical-align: middle;\n",
       "    }\n",
       "\n",
       "    .dataframe tbody tr th {\n",
       "        vertical-align: top;\n",
       "    }\n",
       "\n",
       "    .dataframe thead th {\n",
       "        text-align: right;\n",
       "    }\n",
       "</style>\n",
       "<table border=\"1\" class=\"dataframe\">\n",
       "  <thead>\n",
       "    <tr style=\"text-align: right;\">\n",
       "      <th></th>\n",
       "      <th>group</th>\n",
       "      <th>landing_page</th>\n",
       "      <th>count</th>\n",
       "    </tr>\n",
       "  </thead>\n",
       "  <tbody>\n",
       "    <tr>\n",
       "      <th>0</th>\n",
       "      <td>control</td>\n",
       "      <td>old_page</td>\n",
       "      <td>144226</td>\n",
       "    </tr>\n",
       "    <tr>\n",
       "      <th>1</th>\n",
       "      <td>treatment</td>\n",
       "      <td>new_page</td>\n",
       "      <td>144314</td>\n",
       "    </tr>\n",
       "  </tbody>\n",
       "</table>\n",
       "</div>"
      ],
      "text/plain": [
       "       group landing_page   count\n",
       "0    control     old_page  144226\n",
       "1  treatment     new_page  144314"
      ]
     },
     "execution_count": 42,
     "metadata": {},
     "output_type": "execute_result"
    }
   ],
   "source": [
    "# New distribution of groups by page\n",
    "df_data2.groupby(['group','landing_page']).size().reset_index(name='count')"
   ]
  },
  {
   "cell_type": "code",
   "execution_count": 43,
   "id": "bd7f4871-43ef-4137-802d-7ccb7605d9d7",
   "metadata": {
    "canvas": {
     "comments": [],
     "componentType": "CodeCell",
     "copiedOriginId": null,
     "diskcache": false,
     "headerColor": "inherit",
     "id": "228bbab1-5ff2-42a9-a57e-1a2d702e61f4",
     "isComponent": false,
     "name": "",
     "parents": []
    }
   },
   "outputs": [
    {
     "data": {
      "text/html": [
       "<div>\n",
       "<style scoped>\n",
       "    .dataframe tbody tr th:only-of-type {\n",
       "        vertical-align: middle;\n",
       "    }\n",
       "\n",
       "    .dataframe tbody tr th {\n",
       "        vertical-align: top;\n",
       "    }\n",
       "\n",
       "    .dataframe thead th {\n",
       "        text-align: right;\n",
       "    }\n",
       "</style>\n",
       "<table border=\"1\" class=\"dataframe\">\n",
       "  <thead>\n",
       "    <tr style=\"text-align: right;\">\n",
       "      <th></th>\n",
       "      <th>group</th>\n",
       "      <th>mean_conversion_rate</th>\n",
       "      <th>median_conversion_rate</th>\n",
       "      <th>std_deviation</th>\n",
       "      <th>std_error</th>\n",
       "    </tr>\n",
       "  </thead>\n",
       "  <tbody>\n",
       "    <tr>\n",
       "      <th>0</th>\n",
       "      <td>control</td>\n",
       "      <td>0.120290</td>\n",
       "      <td>0.0</td>\n",
       "      <td>0.325302</td>\n",
       "      <td>0.000857</td>\n",
       "    </tr>\n",
       "    <tr>\n",
       "      <th>1</th>\n",
       "      <td>treatment</td>\n",
       "      <td>0.118727</td>\n",
       "      <td>0.0</td>\n",
       "      <td>0.323468</td>\n",
       "      <td>0.000851</td>\n",
       "    </tr>\n",
       "  </tbody>\n",
       "</table>\n",
       "</div>"
      ],
      "text/plain": [
       "       group  mean_conversion_rate  median_conversion_rate  std_deviation  \\\n",
       "0    control              0.120290                     0.0       0.325302   \n",
       "1  treatment              0.118727                     0.0       0.323468   \n",
       "\n",
       "   std_error  \n",
       "0   0.000857  \n",
       "1   0.000851  "
      ]
     },
     "execution_count": 43,
     "metadata": {},
     "output_type": "execute_result"
    }
   ],
   "source": [
    "# Show more info on conversion\n",
    "conversion_rates = df_data2.groupby('group')['converted'].agg([np.mean, np.median, np.std, stats.sem]).reset_index()\n",
    "conversion_rates.columns = ['group', 'mean_conversion_rate', 'median_conversion_rate', 'std_deviation', 'std_error']\n",
    "conversion_rates"
   ]
  },
  {
   "cell_type": "code",
   "execution_count": 83,
   "id": "dd35cacc-630e-4ff3-977e-697fed710b06",
   "metadata": {
    "canvas": {
     "comments": [],
     "componentType": "CodeCell",
     "copiedOriginId": null,
     "diskcache": false,
     "headerColor": "inherit",
     "id": "34e31b0a-d088-4149-a57e-f13f0540e8bf",
     "isComponent": false,
     "name": "",
     "parents": []
    }
   },
   "outputs": [
    {
     "data": {
      "image/png": "[encoded data removed]",
      "text/plain": [
       "<Figure size 576x432 with 1 Axes>"
      ]
     },
     "metadata": {
      "needs_background": "light"
     },
     "output_type": "display_data"
    }
   ],
   "source": [
    "# Barplot of conversion rate\n",
    "plt.figure(figsize=(8,6))\n",
    "ax = sns.barplot(x=df_data2['group'], y=df_data2['converted'], ci=False)\n",
    "\n",
    "plt.ylim(0, 0.13)\n",
    "plt.title('Average conversion rate by group\\n')\n",
    "plt.xlabel('\\nGroup')\n",
    "plt.ylabel('Conversion Rate\\n')\n",
    "ax.bar_label(ax.containers[0], labels=round(df_data2.groupby('group')['converted'].mean(),4), padding=2)\n",
    "\n",
    "plt.show()"
   ]
  },
  {
   "cell_type": "code",
   "execution_count": 89,
   "id": "2bf0cbee-d78e-4046-891c-0a69c35ddff9",
   "metadata": {
    "canvas": {
     "comments": [],
     "componentType": "CodeCell",
     "copiedOriginId": null,
     "diskcache": false,
     "headerColor": "inherit",
     "id": "8f11754d-42f4-43f7-834c-4d3f5c950286",
     "isComponent": false,
     "name": "",
     "parents": []
    }
   },
   "outputs": [
    {
     "data": {
      "image/png": "[encoded data removed]",
      "text/plain": [
       "<Figure size 720x432 with 1 Axes>"
      ]
     },
     "metadata": {
      "needs_background": "light"
     },
     "output_type": "display_data"
    }
   ],
   "source": [
    "# Create time series plot for conversion rate by group\n",
    "df_series = df_data2.groupby(['full_date','group'])['converted'].agg([np.mean, np.sum, np.size]).reset_index()\n",
    "\n",
    "plt.figure(figsize=(10,6))\n",
    "for i in df_series['group'].unique():\n",
    "    df_group = df_series[df_series['group'] == i]\n",
    "    plt.plot(df_group['full_date'], df_group['mean'], label=i)\n",
    "\n",
    "plt.axhline(y=np.nanmean(df_series['mean']), linestyle='dashed', color='red', label='Average Conversion')\n",
    "plt.legend(loc=\"lower right\")\n",
    "plt.title('Time series of conversion rate by group\\n')\n",
    "plt.xlabel('\\nDates')\n",
    "plt.xticks(rotation=45, ha='right')\n",
    "plt.ylabel('Conversion Rate\\n')\n",
    "\n",
    "plt.tight_layout()\n",
    "plt.show()"
   ]
  },
  {
   "cell_type": "markdown",
   "id": "2e135fad-eada-46b2-9537-308dfb2352c7",
   "metadata": {
    "canvas": {
     "comments": [],
     "componentType": "CodeCell",
     "copiedOriginId": null,
     "diskcache": false,
     "headerColor": "inherit",
     "id": "f4a600fd-013d-49bd-8505-f2b14e344710",
     "isComponent": false,
     "name": "",
     "parents": []
    }
   },
   "source": [
    "## II. Test Method 1:\n",
    "<a id='test1'></a>"
   ]
  },
  {
   "cell_type": "markdown",
   "id": "6e3d457e-29d7-4002-b243-444a7e96ec5e",
   "metadata": {
    "canvas": {
     "comments": [],
     "componentType": "CodeCell",
     "copiedOriginId": null,
     "diskcache": false,
     "headerColor": "inherit",
     "id": "13639eaa-3026-4ff6-9c28-841841a831bf",
     "isComponent": false,
     "name": "",
     "parents": []
    }
   },
   "source": [
    "Check normality assumption using the normality test from the scipy library (based on D’Agostino and Pearson’s test that combines skew and kurtosis to produce an omnibus test of normality). <b><u>[Read more about it here](https://docs.scipy.org/doc/scipy/reference/generated/scipy.stats.normaltest.html)</u></b>:\n",
    "- H0: The assumption of normal distribution is provided\n",
    "- H1: The assumption of normal distribution is not provided\n",
    "\n",
    "Assuming that our alpha is 0.05, if the p-value is less than 0.05, we reject the null hypothesis and a non-parametric test (Mann-Whitney U test) will be used. If not, we will use a parametric test (t-test or z-test)"
   ]
  },
  {
   "cell_type": "code",
   "execution_count": 70,
   "id": "64649816-8e1b-47af-9422-c7fd7f6d03c9",
   "metadata": {
    "canvas": {
     "comments": [],
     "componentType": "CodeCell",
     "copiedOriginId": null,
     "diskcache": false,
     "headerColor": "inherit",
     "id": "b458bc6a-c0f3-475d-a966-349b4f9ac2c4",
     "isComponent": false,
     "name": "",
     "parents": []
    }
   },
   "outputs": [
    {
     "name": "stdout",
     "output_type": "stream",
     "text": [
      "p-value of control group: 0.0\n",
      "test_stat of control group: 62118.728404598005\n"
     ]
    }
   ],
   "source": [
    "test_stat_old, pvalue_old = stats.normaltest(df_data2[df_data2['landing_page'] == 'old_page']['converted'])\n",
    "print(\"p-value of control group:\", pvalue_old)\n",
    "print(\"test_stat of control group:\", test_stat_old)"
   ]
  },
  {
   "cell_type": "code",
   "execution_count": 72,
   "id": "19066d95-da10-4003-8aab-a019badc1973",
   "metadata": {
    "canvas": {
     "comments": [],
     "componentType": "CodeCell",
     "copiedOriginId": null,
     "diskcache": false,
     "headerColor": "inherit",
     "id": "bc7b091b-3336-40f4-b4a5-9f4fe9455d12",
     "isComponent": false,
     "name": "",
     "parents": []
    }
   },
   "outputs": [
    {
     "name": "stdout",
     "output_type": "stream",
     "text": [
      "p-value of treatment group: 0.0\n",
      "test_stat of treatment group: 63026.74538156684\n"
     ]
    }
   ],
   "source": [
    "test_stat_new, pvalue_new = stats.normaltest(df_data2[df_data2['landing_page'] == 'new_page']['converted'])\n",
    "print(\"p-value of treatment group:\", pvalue_new)\n",
    "print(\"test_stat of treatment group:\", test_stat_new)"
   ]
  },
  {
   "cell_type": "markdown",
   "id": "39b931b0-01dd-4b62-997c-f1f755bb1a25",
   "metadata": {
    "canvas": {
     "comments": [],
     "componentType": "CodeCell",
     "copiedOriginId": null,
     "diskcache": false,
     "headerColor": "inherit",
     "id": "5fbb0f4c-0ad5-4c6a-9b82-64ceb8886682",
     "isComponent": false,
     "name": "",
     "parents": []
    }
   },
   "source": [
    "In this case, the p-values from both tests are less than 0.05, thus, we can reject the null hypothesis and conclude that the assumption of normal distribution is not provided. We will be using the Mann-Whitney U test to conduct our AB test. \n",
    "\n",
    "The Mann-Whitney U test (a.k.a. the Mann Whitney Wilcoxon Test or the Wilcoxon Rank Sum Test) is used to test whether two samples are likely to derive from the same population (i.e., that the two populations have the same shape). Some investigators interpret this test as comparing the medians between the two samples, which is different from the common parametric tests that compare the means (H0: μ1=μ2) between independent groups. <b><u>[Read more about it here:](https://sphweb.bumc.bu.edu/otlt/mph-modules/bs/bs704_nonparametric/bs704_nonparametric4.html)</u></b>"
   ]
  },
  {
   "cell_type": "code",
   "execution_count": 119,
   "id": "f1b34ff8-64c9-45a8-baed-14e2e56f594f",
   "metadata": {
    "canvas": {
     "comments": [],
     "componentType": "CodeCell",
     "copiedOriginId": null,
     "diskcache": false,
     "headerColor": "inherit",
     "id": "ffecad2d-5a31-4ff0-befd-160e3ca274dc",
     "isComponent": false,
     "name": "",
     "parents": []
    }
   },
   "outputs": [
    {
     "data": {
      "text/html": [
       "<div>\n",
       "<style scoped>\n",
       "    .dataframe tbody tr th:only-of-type {\n",
       "        vertical-align: middle;\n",
       "    }\n",
       "\n",
       "    .dataframe tbody tr th {\n",
       "        vertical-align: top;\n",
       "    }\n",
       "\n",
       "    .dataframe thead th {\n",
       "        text-align: right;\n",
       "    }\n",
       "</style>\n",
       "<table border=\"1\" class=\"dataframe\">\n",
       "  <thead>\n",
       "    <tr style=\"text-align: right;\">\n",
       "      <th></th>\n",
       "      <th>group</th>\n",
       "      <th>landing_page</th>\n",
       "      <th>count</th>\n",
       "    </tr>\n",
       "  </thead>\n",
       "  <tbody>\n",
       "    <tr>\n",
       "      <th>0</th>\n",
       "      <td>control</td>\n",
       "      <td>old_page</td>\n",
       "      <td>144226</td>\n",
       "    </tr>\n",
       "    <tr>\n",
       "      <th>1</th>\n",
       "      <td>treatment</td>\n",
       "      <td>new_page</td>\n",
       "      <td>144226</td>\n",
       "    </tr>\n",
       "  </tbody>\n",
       "</table>\n",
       "</div>"
      ],
      "text/plain": [
       "       group landing_page   count\n",
       "0    control     old_page  144226\n",
       "1  treatment     new_page  144226"
      ]
     },
     "execution_count": 119,
     "metadata": {},
     "output_type": "execute_result"
    }
   ],
   "source": [
    "# Balance the sample size in each group\n",
    "balance_n = min(len(df_data2[df_data2['group']=='control']), len(df_data2[df_data2['group']=='treatment']))\n",
    "df_control = df_data2[(df_data2['group'] == 'control')].sample(n=balance_n, random_state =99)\n",
    "df_treatment = df_data2[(df_data2['group'] == 'treatment')].sample(n=balance_n, random_state =99)\n",
    "\n",
    "# Concat two groups\n",
    "df_test = pd.concat([df_control, df_treatment], axis=0).reset_index(drop=True)\n",
    "df_test.groupby(['group','landing_page']).size().reset_index(name='count')"
   ]
  },
  {
   "cell_type": "markdown",
   "id": "0be383d5-533d-46c1-bd7e-e7b83729dc80",
   "metadata": {
    "canvas": {
     "comments": [],
     "componentType": "CodeCell",
     "copiedOriginId": null,
     "diskcache": false,
     "headerColor": "inherit",
     "id": "0bcdcb0b-865c-4e36-91e0-34c821d44d31",
     "isComponent": false,
     "name": "",
     "parents": []
    }
   },
   "source": [
    "Hypotheses of the non-parametric Mann-Whitney U test:\n",
    "- H0: There is no statistically significant difference between the median conversion rate of the old page and the new page\n",
    "- H1: There is statistically significant difference between the median conversion rate of the old page and the new page\n",
    "\n",
    "Assuming that our alpha is 0.05, if the p-value is less than 0.05, it is considered significant and we can reject the null hypothesis"
   ]
  },
  {
   "cell_type": "code",
   "execution_count": 122,
   "id": "a0bb50a5-2c2c-4024-bd07-ee34f854bf6f",
   "metadata": {
    "canvas": {
     "comments": [],
     "componentType": "CodeCell",
     "copiedOriginId": null,
     "diskcache": false,
     "headerColor": "inherit",
     "id": "ba234ce9-71c9-4ef7-ab07-a0f510bdaf92",
     "isComponent": false,
     "name": "",
     "parents": []
    }
   },
   "outputs": [
    {
     "name": "stdout",
     "output_type": "stream",
     "text": [
      "Test Stat = 10416650737.0, p-value = 0.2006\n"
     ]
    }
   ],
   "source": [
    "# Conduct Mann-Whitney U test\n",
    "test_stat, pvalue = mannwhitneyu(df_test[df_test['landing_page'] == 'old_page']['converted'],\n",
    "                                 df_test[df_test['landing_page'] == 'new_page']['converted'],\n",
    "                                 method = 'asymptotic') # choose asymptotic for large sample size\n",
    "\n",
    "print('Test Stat = %.1f, p-value = %.4f' % (test_stat, pvalue))"
   ]
  },
  {
   "cell_type": "markdown",
   "id": "5e01eee7-877e-4609-aea5-298ae122e79b",
   "metadata": {
    "canvas": {
     "comments": [],
     "componentType": "CodeCell",
     "copiedOriginId": null,
     "diskcache": false,
     "headerColor": "inherit",
     "id": "0409288a-b42e-4a7c-8b0e-20c3d44da247",
     "isComponent": false,
     "name": "",
     "parents": []
    }
   },
   "source": [
    "Since our p-value is greater than 0.05, we fail to reject the null hypothesis and conclude that there is no statistically significant difference between the new page and the old page. In other words, the new change does not significantly influence the conversion rate."
   ]
  },
  {
   "cell_type": "markdown",
   "id": "51b090dd-1868-4419-bec1-efdea34d7c87",
   "metadata": {
    "canvas": {
     "comments": [],
     "componentType": "CodeCell",
     "copiedOriginId": null,
     "diskcache": false,
     "headerColor": "inherit",
     "id": "fb92ba20-6ea0-4622-a73a-6cc000cdbcd3",
     "isComponent": false,
     "name": "",
     "parents": []
    }
   },
   "source": [
    "## III. Test Method 2:\n",
    "<a id='test2'></a>"
   ]
  },
  {
   "cell_type": "markdown",
   "id": "33e1125e-6fdb-4a51-a58e-6217cb7796cf",
   "metadata": {
    "canvas": {
     "comments": [],
     "componentType": "CodeCell",
     "copiedOriginId": null,
     "diskcache": false,
     "headerColor": "inherit",
     "id": "ea881d4e-ce23-4e4c-b4f0-42aba779ba15",
     "isComponent": false,
     "name": "",
     "parents": []
    }
   },
   "source": [
    "Even though we have tested that the data distribution is likely to be non-normal, we should also consider that the z-test is best used for greater-than-30 samples because under the central limit theorem, as the number of samples gets larger, the samples are considered to be approximately normally distributed. In this case, since we have a lot of data, we can try using the z-test as a second way of conducting our AB test. (Source: [Investopedia](https://www.investopedia.com/terms/z/z-test.asp))\n",
    "\n",
    "First, we compute the required sample size for our z-test using the power analysis approach:"
   ]
  },
  {
   "cell_type": "code",
   "execution_count": 127,
   "id": "7acef6f2-6bc1-4421-a738-8dcc287d78ef",
   "metadata": {
    "canvas": {
     "comments": [],
     "componentType": "CodeCell",
     "copiedOriginId": null,
     "diskcache": false,
     "headerColor": "inherit",
     "id": "b226d0ca-b882-4e3b-b4c5-dff7231828f1",
     "isComponent": false,
     "name": "",
     "parents": []
    }
   },
   "outputs": [
    {
     "name": "stdout",
     "output_type": "stream",
     "text": [
      "The required sample size per group for z-test is: 5934\n"
     ]
    }
   ],
   "source": [
    "# Power analysis (if assumption of the change in conversion rate is known)\n",
    "rate_old = round(float(conversion_rates[conversion_rates['group'] == 'control']['mean_conversion_rate']),3) # Mean conversion rate from control group\n",
    "rate_new = rate_old + 0.02 # Test if the rates increase by 2% (assumption of change is +2%)\n",
    "\n",
    "# Calculating effect size based on our expected rates\n",
    "effect_size = sms.proportion_effectsize(rate_old, rate_new)\n",
    "\n",
    "# Calculating sample size needed (alpha = 0.05, beta = 0.1, power = 1-beta = 0.9)\n",
    "required_n = sms.NormalIndPower().solve_power(effect_size, power=0.9, alpha=0.05, ratio=1)\n",
    "\n",
    "# Rounding up the whole number\n",
    "required_n = ceil(required_n)\n",
    "print(\"The required sample size per group for z-test is:\",required_n)"
   ]
  },
  {
   "cell_type": "code",
   "execution_count": 125,
   "id": "123cf6fd-fad3-4cd6-999c-9c5c7a28e815",
   "metadata": {
    "canvas": {
     "comments": [],
     "componentType": "CodeCell",
     "copiedOriginId": null,
     "diskcache": false,
     "headerColor": "inherit",
     "id": "cb8792b1-875f-4554-9fc2-732341fa612a",
     "isComponent": false,
     "name": "",
     "parents": []
    }
   },
   "outputs": [
    {
     "data": {
      "text/html": [
       "<div>\n",
       "<style scoped>\n",
       "    .dataframe tbody tr th:only-of-type {\n",
       "        vertical-align: middle;\n",
       "    }\n",
       "\n",
       "    .dataframe tbody tr th {\n",
       "        vertical-align: top;\n",
       "    }\n",
       "\n",
       "    .dataframe thead th {\n",
       "        text-align: right;\n",
       "    }\n",
       "</style>\n",
       "<table border=\"1\" class=\"dataframe\">\n",
       "  <thead>\n",
       "    <tr style=\"text-align: right;\">\n",
       "      <th></th>\n",
       "      <th>group</th>\n",
       "      <th>landing_page</th>\n",
       "      <th>count</th>\n",
       "    </tr>\n",
       "  </thead>\n",
       "  <tbody>\n",
       "    <tr>\n",
       "      <th>0</th>\n",
       "      <td>control</td>\n",
       "      <td>old_page</td>\n",
       "      <td>5934</td>\n",
       "    </tr>\n",
       "    <tr>\n",
       "      <th>1</th>\n",
       "      <td>treatment</td>\n",
       "      <td>new_page</td>\n",
       "      <td>5934</td>\n",
       "    </tr>\n",
       "  </tbody>\n",
       "</table>\n",
       "</div>"
      ],
      "text/plain": [
       "       group landing_page  count\n",
       "0    control     old_page   5934\n",
       "1  treatment     new_page   5934"
      ]
     },
     "execution_count": 125,
     "metadata": {},
     "output_type": "execute_result"
    }
   ],
   "source": [
    "# Random sampling from each group\n",
    "df_control = df_data2[(df_data2['group'] == 'control')].sample(n=required_n, random_state =99)\n",
    "df_treatment = df_data2[(df_data2['group'] == 'treatment')].sample(n=required_n, random_state =99)\n",
    "\n",
    "# Concat two groups\n",
    "df_test2 = pd.concat([df_control, df_treatment], axis=0).reset_index(drop=True)\n",
    "df_test2.groupby(['group','landing_page']).size().reset_index(name='count')"
   ]
  },
  {
   "cell_type": "markdown",
   "id": "f16e9609-9a3b-4094-a61b-8db93ad60f55",
   "metadata": {
    "canvas": {
     "comments": [],
     "componentType": "CodeCell",
     "copiedOriginId": null,
     "diskcache": false,
     "headerColor": "inherit",
     "id": "c3e77ab9-46fc-4af4-a304-bfb8ee14dd1d",
     "isComponent": false,
     "name": "",
     "parents": []
    }
   },
   "source": [
    "The two-tailed z-test hypotheses are:\n",
    "- H0: There is no significant difference between the means of the two groups being compared\n",
    "- H1: There is a significant difference between the means of the two groups being compared"
   ]
  },
  {
   "cell_type": "code",
   "execution_count": 126,
   "id": "df50d8fc-f901-4943-a63a-c2e1626e9f05",
   "metadata": {
    "canvas": {
     "comments": [],
     "componentType": "CodeCell",
     "copiedOriginId": null,
     "diskcache": false,
     "headerColor": "inherit",
     "id": "a626a423-c35c-4643-947e-0a08627b0bb4",
     "isComponent": false,
     "name": "",
     "parents": []
    }
   },
   "outputs": [
    {
     "name": "stdout",
     "output_type": "stream",
     "text": [
      "z statistic: 0.23\n",
      "p-value: 0.822\n",
      "ci 95% for control group: [0.114, 0.130]\n",
      "ci 95% for treatment group: [0.112, 0.129]\n"
     ]
    }
   ],
   "source": [
    "# Conduct z-test\n",
    "control_results = df_test2[df_test2['group'] == 'control']['converted']\n",
    "treatment_results = df_test2[df_test2['group'] == 'treatment']['converted']\n",
    "\n",
    "successes = [control_results.sum(), treatment_results.sum()] # number of conversions\n",
    "n_observe = [control_results.count(), treatment_results.count()] # total sample size\n",
    "\n",
    "# Calculate z-statistic and p-value\n",
    "z_stat, pvalue = proportions_ztest(successes, nobs=n_observe)\n",
    "\n",
    "# Calculate confidence intervals\n",
    "(lower_con, lower_treat), (upper_con, upper_treat) = proportion_confint(successes, nobs=n_observe, alpha=0.05)\n",
    "\n",
    "print(f'z statistic: {z_stat:.2f}')\n",
    "print(f'p-value: {pvalue:.3f}')\n",
    "print(f'ci 95% for control group: [{lower_con:.3f}, {upper_con:.3f}]')\n",
    "print(f'ci 95% for treatment group: [{lower_treat:.3f}, {upper_treat:.3f}]')"
   ]
  },
  {
   "cell_type": "markdown",
   "id": "de78c4b2-731a-4b40-a9a6-1a6305b18f94",
   "metadata": {
    "canvas": {
     "comments": [],
     "componentType": "CodeCell",
     "copiedOriginId": null,
     "diskcache": false,
     "headerColor": "inherit",
     "id": "42b9c018-9563-4543-9e0e-1e8e209d1fe4",
     "isComponent": false,
     "name": "",
     "parents": []
    }
   },
   "source": [
    "Sinze the p-value from the z-test is greater than our alpha of 0.05, we fail to reject the null hypothesis and conclude that there is no significant difference between the means of the two groups being compared. We can also see this by looking at the overlapping confidence intervals of the 2 groups.\n",
    "\n",
    "Both methods seem to point to the same conclusion, which is that the new landing page does not make a significant change on the conversion rate compared to the old landing page."
   ]
  },
  {
   "cell_type": "markdown",
   "id": "ee3d960e-e0ba-4b4a-81e0-4157ffd518b5",
   "metadata": {
    "canvas": {
     "comments": [],
     "componentType": "CodeCell",
     "copiedOriginId": null,
     "diskcache": false,
     "headerColor": "inherit",
     "id": "169c8733-a0e3-452a-addd-cbc0ccbda8f3",
     "isComponent": false,
     "name": "",
     "parents": []
    }
   },
   "source": [
    "## IV. Code References:\n",
    "<a id='ref'></a>\n",
    "\n",
    "Inspirations from the following projects:\n",
    "- https://towardsdatascience.com/ab-testing-with-python-e5964dd66143\n",
    "- https://www.kaggle.com/code/ramzanzdemir/ab-testing"
   ]
  },
  {
   "cell_type": "markdown",
   "id": "9680660c-ec37-4007-89df-b104bad11062",
   "metadata": {
    "canvas": {
     "comments": [],
     "componentType": "CodeCell",
     "copiedOriginId": null,
     "diskcache": false,
     "headerColor": "inherit",
     "id": "46c726ba-ed04-49ba-9c24-b922dcc8169d",
     "isComponent": false,
     "name": "",
     "parents": []
    }
   },
   "source": [
    "[Return to Table of Contents](#TOC)"
   ]
  }
 ],
 "metadata": {
  "canvas": {
   "colorPalette": [
    "inherit",
    "inherit",
    "inherit",
    "inherit",
    "inherit",
    "inherit",
    "inherit",
    "inherit",
    "inherit",
    "inherit"
   ],
   "parameters": [],
   "version": "1.0"
  },
  "kernelspec": {
   "display_name": "Python 3 (ipykernel)",
   "language": "python",
   "name": "python3"
  },
  "language_info": {
   "codemirror_mode": {
    "name": "ipython",
    "version": 3
   },
   "file_extension": ".py",
   "mimetype": "text/x-python",
   "name": "python",
   "nbconvert_exporter": "python",
   "pygments_lexer": "ipython3",
   "version": "3.7.1"
  }
 },
 "nbformat": 4,
 "nbformat_minor": 5
}
